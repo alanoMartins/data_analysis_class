{
 "cells": [
  {
   "cell_type": "markdown",
   "metadata": {},
   "source": [
    "# Agrupamento - K-Means"
   ]
  },
  {
   "cell_type": "markdown",
   "metadata": {},
   "source": [
    "Primeiro, os devidos $\\texttt{import}$s:"
   ]
  },
  {
   "cell_type": "code",
   "execution_count": 1,
   "metadata": {},
   "outputs": [],
   "source": [
    "import numpy as np\n",
    "import matplotlib.pyplot as plt\n",
    "from sklearn import datasets\n",
    "import copy"
   ]
  },
  {
   "cell_type": "markdown",
   "metadata": {},
   "source": [
    "Iremos trabalhar com o banco de dados Iris.\n"
   ]
  },
  {
   "cell_type": "code",
   "execution_count": 2,
   "metadata": {},
   "outputs": [],
   "source": [
    "iris = datasets.load_iris()\n",
    "X = iris.data\n",
    "y = iris.target"
   ]
  },
  {
   "cell_type": "markdown",
   "metadata": {},
   "source": [
    "Inicialmente, para melhor visualização, escolhemos como características somente<br>o comprimento de sépala (primeira característica) e<br> a largura de pétala (quarta característica)."
   ]
  },
  {
   "cell_type": "code",
   "execution_count": 3,
   "metadata": {},
   "outputs": [
    {
     "data": {
      "text/plain": [
       "<matplotlib.legend.Legend at 0x7f8033f9c320>"
      ]
     },
     "execution_count": 3,
     "metadata": {},
     "output_type": "execute_result"
    },
    {
     "data": {
      "image/png": "[encoded data removed]",
      "text/plain": [
       "<Figure size 432x288 with 1 Axes>"
      ]
     },
     "metadata": {},
     "output_type": "display_data"
    }
   ],
   "source": [
    "fig = plt.figure()\n",
    "ax1 = fig.add_subplot(111)\n",
    "ax1.scatter(X[0:50,0], X[0:50,3], c='r', marker='^', label=\"Iris setosa\")\n",
    "ax1.scatter(X[50:100,0], X[50:100,3], c='g', marker='s', label=\"Iris versicolor\")\n",
    "ax1.scatter(X[100:150,0], X[100:150,3], c='b', marker='o', label=\"Iris virginica\")\n",
    "ax1.legend(bbox_to_anchor=(1.05, 1), loc=2, borderaxespad=0.)"
   ]
  },
  {
   "cell_type": "markdown",
   "metadata": {},
   "source": [
    "Notamos que, usando somente as primeira e quarta características, a <font color='red'>Iris setosa</font> é linearmente separável das outras, o que não ocorre com a <font color='green'>Iris versicolor</font> e <font color='blue'>Iris viginica</font>. <br>\n",
    "O mesmo ocorre no espaço 4-dimensional."
   ]
  },
  {
   "cell_type": "markdown",
   "metadata": {},
   "source": [
    "Inicialmente, consideraremos somente as espécies Iris setosa e Iris virginica, que são linearmente separáveis."
   ]
  },
  {
   "cell_type": "code",
   "execution_count": 4,
   "metadata": {},
   "outputs": [
    {
     "name": "stdout",
     "output_type": "stream",
     "text": [
      "centroide Iris setosa = [5.006 0.244]\n",
      "centroide Iris virginica = [6.588 2.026]\n"
     ]
    }
   ],
   "source": [
    "Y = np.concatenate((X[0:50,(0,3)],X[100:150,(0,3)]), axis=0)\n",
    "print('centroide Iris setosa =', np.mean(Y[0:50], axis=0))\n",
    "print('centroide Iris virginica =', np.mean(Y[50:100], axis=0))"
   ]
  },
  {
   "cell_type": "markdown",
   "metadata": {},
   "source": [
    "Visulizando a primeira e quarta características:"
   ]
  },
  {
   "cell_type": "code",
   "execution_count": 5,
   "metadata": {},
   "outputs": [
    {
     "data": {
      "text/plain": [
       "<matplotlib.legend.Legend at 0x7f8033ec03c8>"
      ]
     },
     "execution_count": 5,
     "metadata": {},
     "output_type": "execute_result"
    },
    {
     "data": {
      "image/png": "[encoded data removed]",
      "text/plain": [
       "<Figure size 432x288 with 1 Axes>"
      ]
     },
     "metadata": {},
     "output_type": "display_data"
    }
   ],
   "source": [
    "fig = plt.figure()\n",
    "ax1 = fig.add_subplot(111)\n",
    "ax1.scatter(Y[0:50,0], Y[0:50,1], c='r', marker='^', label=\"Iris setosa\")\n",
    "ax1.scatter(Y[50:100,0], Y[50:100,1], c='b', marker='o', label=\"Iris virginica\")\n",
    "ax1.legend(bbox_to_anchor=(1.05, 1), loc=2, borderaxespad=0.)"
   ]
  },
  {
   "cell_type": "markdown",
   "metadata": {},
   "source": [
    "## K-Means"
   ]
  },
  {
   "cell_type": "markdown",
   "metadata": {},
   "source": [
    "Agora, o algoritmo propriamente dito."
   ]
  },
  {
   "cell_type": "code",
   "execution_count": 6,
   "metadata": {},
   "outputs": [
    {
     "name": "stdout",
     "output_type": "stream",
     "text": [
      "clusters = [1 1 1 1 1 1 1 1 1 1 1 1 1 1 1 1 1 1 1 1 1 1 1 1 1 1 1 1 1 1 1 1 1 1 1 1 1\n",
      " 1 1 1 1 1 1 1 1 1 1 1 1 1 0 0 0 0 0 0 1 0 0 0 0 0 0 0 0 0 0 0 0 0 0 0 0 0\n",
      " 0 0 0 0 0 0 0 0 0 0 0 0 0 0 0 0 0 0 0 0 0 0 0 0 0 0]\n",
      "clusters centers = [[6.62244898 2.03265306]\n",
      " [5.00392157 0.27254902]]\n",
      "centroide Iris setosa = [5.006 0.244]\n",
      "centroide Iris virginica = [6.588 2.026]\n"
     ]
    }
   ],
   "source": [
    "# Algoritmo K-Means\n",
    "n, c = Y.shape # número de amostras e de características\n",
    "k = 2 # números de agrupamentos\n",
    "\n",
    "#centers = Y[np.random.choice(n, k, replace=False), :] # escolhe k amostras para centroides\n",
    "centers = Y[0:k,:] # escolhe as k primeiras amostras para centroides. Má ideia!, mas...\n",
    "\n",
    "centers_old = np.zeros(centers.shape) # to store old centers\n",
    "centers_new = copy.deepcopy(centers) # to store new centers\n",
    "\n",
    "clusters = np.zeros(n) # índice do agrupamento\n",
    "distances = np.zeros((n,k)) # distâncias de cada amostra a cada centroide\n",
    "\n",
    "error = np.linalg.norm(centers_new - centers_old) # aqui usamos distância!\n",
    "\n",
    "# When, after an update, the estimate of that center stays the same, exit loop\n",
    "while error != 0:\n",
    "    # Measure the distance to every center\n",
    "    for i in range(k):\n",
    "        distances[:,i] = np.linalg.norm(Y - centers_new[i], axis=1)  # aqui usamos distância!\n",
    "    # Assign all training data to closest center\n",
    "    clusters = np.argmin(distances, axis = 1)\n",
    "    centers_old = copy.deepcopy(centers_new)\n",
    "    # Calculate mean for every cluster and update the center\n",
    "    for i in range(k):\n",
    "        centers_new[i] = np.mean(Y[clusters == i], axis=0)\n",
    "    error = np.linalg.norm(centers_new - centers_old)\n",
    "    \n",
    "    #print('error =', error)\n",
    "    \n",
    "print('clusters =', clusters) \n",
    "print('clusters centers =', centers_new)\n",
    "print('centroide Iris setosa =', np.mean(Y[0:50], axis=0))\n",
    "print('centroide Iris virginica =', np.mean(Y[50:100], axis=0))"
   ]
  },
  {
   "cell_type": "code",
   "execution_count": 7,
   "metadata": {},
   "outputs": [
    {
     "data": {
      "text/plain": [
       "<matplotlib.legend.Legend at 0x7f8033df0048>"
      ]
     },
     "execution_count": 7,
     "metadata": {},
     "output_type": "execute_result"
    },
    {
     "data": {
      "image/png": "[encoded data removed]",
      "text/plain": [
       "<Figure size 1008x3600 with 2 Axes>"
      ]
     },
     "metadata": {},
     "output_type": "display_data"
    }
   ],
   "source": [
    "# Mostrar os centros dos agrupamentos (características 0 e 3)\n",
    "fig = plt.figure(figsize=(14, 10))\n",
    "ax1 = fig.add_subplot(121)\n",
    "plt.title('Classes Reais')\n",
    "ax1.set_aspect('equal', 'box')\n",
    "ax1.scatter(Y[0:50,0], Y[0:50,1], c='r', marker='^', label=\"Iris setosa\")\n",
    "ax1.scatter(Y[50:100,0], Y[50:100,1], c='b', marker='o', label=\"Iris virginica\")\n",
    "ax1 = fig.add_subplot(122)\n",
    "fig.set_figheight(50)\n",
    "plt.title('Classes Estimadas')\n",
    "ax1.set_aspect('equal', 'box')\n",
    "ax1.scatter(Y[clusters == 1,0], Y[clusters == 1,1], c='r', marker='^', label=\"Iris setosa\")\n",
    "ax1.scatter(Y[clusters == 0,0], Y[clusters == 0,1], c='b', marker='o', label=\"Iris virginica\")\n",
    "#ax1.scatter(Y[56,0], Y[56,1], c='yellow', marker='*') # outlier da espécie Iris virginica\n",
    "ax1.scatter(centers_new[:,0], centers_new[:,1], c='black', marker='X', label=\"centroides\")\n",
    "ax1.legend(bbox_to_anchor=(1.05, 1.00), loc=2, borderaxespad=0.0)"
   ]
  },
  {
   "cell_type": "markdown",
   "metadata": {},
   "source": [
    "Vejamos as distâncias do outlier (Y[56]) aos centroides:"
   ]
  },
  {
   "cell_type": "code",
   "execution_count": 8,
   "metadata": {},
   "outputs": [
    {
     "name": "stdout",
     "output_type": "stream",
     "text": [
      "distância de Y[56] ao centroide vermelho = 1.4312288404893607\n",
      "distância de Y[56] ao centroide azul = 1.7542772148206731\n",
      "distância de Y[56] ao centroide real da Iris setosa (vermelho) = 1.4598534172991477\n",
      "distância de Y[56] ao centroide real da Iris virginica (azul) = 1.7191916705242594\n"
     ]
    }
   ],
   "source": [
    "if clusters[56] == 0:\n",
    "    print('distância de Y[56] ao centroide vermelho =', np.linalg.norm(Y[56] - centers_new[0]))\n",
    "    print('distância de Y[56] ao centroide azul =', np.linalg.norm(Y[56] - centers_new[1]))\n",
    "else:\n",
    "    print('distância de Y[56] ao centroide vermelho =', np.linalg.norm(Y[56] - centers_new[1]))\n",
    "    print('distância de Y[56] ao centroide azul =', np.linalg.norm(Y[56] - centers_new[0]))\n",
    "    \n",
    "print('distância de Y[56] ao centroide real da Iris setosa (vermelho) =',  \n",
    "      np.linalg.norm(Y[56] - np.mean(Y[0:50], axis=0)))\n",
    "print('distância de Y[56] ao centroide real da Iris virginica (azul) =',  \n",
    "      np.linalg.norm(Y[56] - np.mean(Y[50:100], axis=0)))\n"
   ]
  },
  {
   "cell_type": "markdown",
   "metadata": {},
   "source": [
    "Concluindo: utilizando somente as características 0 e 3, a amostra 56 é mais similar à espécie Iris setosa que à sua espécie (Iris viginica).<br>\n",
    "Pelo menos quando usamos a distância euclidiana..."
   ]
  },
  {
   "cell_type": "markdown",
   "metadata": {},
   "source": [
    "Vejamos, então, o que acontece quando aplicamos o K-Means com as quatro características."
   ]
  },
  {
   "cell_type": "code",
   "execution_count": 9,
   "metadata": {},
   "outputs": [],
   "source": [
    "Z = np.concatenate((X[0:50,:],X[100:150,:]), axis=0)"
   ]
  },
  {
   "cell_type": "markdown",
   "metadata": {},
   "source": [
    "Aproveitando para criar uma função..."
   ]
  },
  {
   "cell_type": "code",
   "execution_count": 10,
   "metadata": {},
   "outputs": [
    {
     "name": "stdout",
     "output_type": "stream",
     "text": [
      "clusters = [0 0 0 0 0 0 0 0 0 0 0 0 0 0 0 0 0 0 0 0 0 0 0 0 0 0 0 0 0 0 0 0 0 0 0 0 0\n",
      " 0 0 0 0 0 0 0 0 0 0 0 0 0 1 1 1 1 1 1 1 1 1 1 1 1 1 1 1 1 1 1 1 1 1 1 1 1\n",
      " 1 1 1 1 1 1 1 1 1 1 1 1 1 1 1 1 1 1 1 1 1 1 1 1 1 1]\n",
      "clusters centers = [[5.006 3.418 1.464 0.244]\n",
      " [6.588 2.974 5.552 2.026]]\n",
      "centroide Iris setosa = [5.006 3.418 1.464 0.244]\n",
      "centroide Iris virginica = [6.588 2.974 5.552 2.026]\n"
     ]
    }
   ],
   "source": [
    "# Algoritmo K-Means\n",
    "def my_k_means(X, k):    \n",
    "    n, c = X.shape # número de amostras e de características\n",
    "\n",
    "    centers = X[np.random.choice(n, k, replace=False), :] # escolhe k amostras para centroides\n",
    "    #centers = X[0:k,:] # escolhe as k primeiras amostras para centroides. Má ideia!, mas...\n",
    "\n",
    "    centers_old = np.zeros(centers.shape) # to store old centers\n",
    "    centers_new = copy.deepcopy(centers) # to store new centers\n",
    "\n",
    "    clusters = np.zeros(n) # índice do agrupamento\n",
    "    distances = np.zeros((n,k)) # distâncias de cada amostra a cada centroide\n",
    "\n",
    "    error = np.linalg.norm(centers_new - centers_old) # aqui usamos distância!\n",
    "\n",
    "    # When, after an update, the estimate of that center stays the same, exit loop\n",
    "    while error != 0:\n",
    "        # Measure the distance to every center\n",
    "        for i in range(k):\n",
    "            distances[:,i] = np.linalg.norm(X - centers_new[i], axis=1)  # aqui usamos distância!\n",
    "        # Assign all training data to closest center\n",
    "        clusters = np.argmin(distances, axis = 1)\n",
    "        centers_old = copy.deepcopy(centers_new)\n",
    "        # Calculate mean for every cluster and update the center\n",
    "        for i in range(k):\n",
    "            centers_new[i] = np.mean(X[clusters == i], axis=0)\n",
    "        error = np.linalg.norm(centers_new - centers_old)\n",
    "    \n",
    "    print('clusters =', clusters) \n",
    "    print('clusters centers =', centers_new)\n",
    "    \n",
    "my_k_means(Z, 2)\n",
    "\n",
    "print('centroide Iris setosa =', np.mean(Z[0:50], axis=0))\n",
    "print('centroide Iris virginica =', np.mean(Z[50:100], axis=0))"
   ]
  },
  {
   "cell_type": "markdown",
   "metadata": {},
   "source": [
    "Vamos ver o que acontece quando trocamos a Iris virginica pela Iris versicolor."
   ]
  },
  {
   "cell_type": "code",
   "execution_count": 11,
   "metadata": {},
   "outputs": [
    {
     "name": "stdout",
     "output_type": "stream",
     "text": [
      "clusters = [1 1 1 1 1 1 1 1 1 1 1 1 1 1 1 1 1 1 1 1 1 1 1 1 1 1 1 1 1 1 1 1 1 1 1 1 1\n",
      " 1 1 1 1 1 1 1 1 1 1 1 1 1 0 0 0 0 0 0 0 0 0 0 0 0 0 0 0 0 0 0 0 0 0 0 0 0\n",
      " 0 0 0 0 0 0 0 0 0 0 0 0 0 0 0 0 0 0 0 0 0 0 0 0 0 0]\n",
      "clusters centers = [[5.936 2.77  4.26  1.326]\n",
      " [5.006 3.418 1.464 0.244]]\n",
      "centroide Iris setosa = [5.006 3.418 1.464 0.244]\n",
      "centroide Iris versicolor = [5.936 2.77  4.26  1.326]\n"
     ]
    }
   ],
   "source": [
    "Z = np.concatenate((X[0:50,:],X[50:100,:]), axis=0)\n",
    "my_k_means(Z, 2)\n",
    "\n",
    "print('centroide Iris setosa =', np.mean(Z[0:50], axis=0))\n",
    "print('centroide Iris versicolor =', np.mean(Z[50:100], axis=0))"
   ]
  },
  {
   "cell_type": "markdown",
   "metadata": {},
   "source": [
    "Como dissemos, a classe Iris setosa é separável das classes Iris versicolor e Iris virginica."
   ]
  },
  {
   "cell_type": "markdown",
   "metadata": {},
   "source": [
    "Não podemos resistir..."
   ]
  },
  {
   "cell_type": "code",
   "execution_count": 12,
   "metadata": {},
   "outputs": [
    {
     "name": "stdout",
     "output_type": "stream",
     "text": [
      "clusters = [1 1 0 1 1 1 1 1 1 1 1 1 1 1 1 1 1 1 1 1 1 1 1 1 1 1 1 0 1 1 1 1 1 1 1 1 1\n",
      " 1 1 1 1 1 1 1 1 1 1 1 1 1 0 1 0 0 0 0 1 0 0 0 0 0 0 1 1 0 0 0 0 1 0 1 0 1\n",
      " 0 0 1 1 0 0 0 0 0 1 0 0 0 0 1 0 0 0 1 0 0 0 1 0 0 1]\n",
      "clusters centers = [[6.85       3.07368421 5.74210526 2.07105263]\n",
      " [5.9016129  2.7483871  4.39354839 1.43387097]]\n",
      "centroide Iris versicolor = [5.936 2.77  4.26  1.326]\n",
      "centroide Iris virginica = [6.588 2.974 5.552 2.026]\n"
     ]
    }
   ],
   "source": [
    "Z = np.concatenate((X[50:100,:],X[100:150,:]), axis=0)\n",
    "my_k_means(Z, 2)\n",
    "\n",
    "print('centroide Iris versicolor =', np.mean(Z[0:50], axis=0))\n",
    "print('centroide Iris virginica =', np.mean(Z[50:100], axis=0))"
   ]
  },
  {
   "cell_type": "markdown",
   "metadata": {},
   "source": [
    "O que mostra qua as espécies Iris versicolor e Iris virginica <b>não</b> são linearmente separáveis."
   ]
  },
  {
   "cell_type": "markdown",
   "metadata": {},
   "source": [
    "Por fim, vamos aplicar o K-Means no conjunto completo."
   ]
  },
  {
   "cell_type": "code",
   "execution_count": 13,
   "metadata": {},
   "outputs": [
    {
     "name": "stdout",
     "output_type": "stream",
     "text": [
      "clusters = [0 0 0 0 0 0 0 0 0 0 0 0 0 0 0 0 0 0 0 0 0 0 0 0 0 0 0 0 0 0 0 0 0 0 0 0 0\n",
      " 0 0 0 0 0 0 0 0 0 0 0 0 0 2 1 2 1 1 1 1 1 1 1 1 1 1 1 1 1 1 1 1 1 1 1 1 1\n",
      " 1 1 1 2 1 1 1 1 1 1 1 1 1 1 1 1 1 1 1 1 1 1 1 1 1 1 2 1 2 2 2 2 1 2 2 2 2\n",
      " 2 2 1 1 2 2 2 2 1 2 1 2 1 2 2 1 1 2 2 2 2 2 1 2 2 2 2 1 2 2 2 1 2 2 2 1 2\n",
      " 2 1]\n",
      "clusters centers = [[5.006      3.418      1.464      0.244     ]\n",
      " [5.88360656 2.74098361 4.38852459 1.43442623]\n",
      " [6.85384615 3.07692308 5.71538462 2.05384615]]\n"
     ]
    }
   ],
   "source": [
    "my_k_means(X, 3)"
   ]
  }
 ],
 "metadata": {
  "kernelspec": {
   "display_name": "Python 3",
   "language": "python",
   "name": "python3"
  },
  "language_info": {
   "codemirror_mode": {
    "name": "ipython",
    "version": 3
   },
   "file_extension": ".py",
   "mimetype": "text/x-python",
   "name": "python",
   "nbconvert_exporter": "python",
   "pygments_lexer": "ipython3",
   "version": "3.7.1rc2"
  }
 },
 "nbformat": 4,
 "nbformat_minor": 2
}
